{
 "cells": [
  {
   "cell_type": "markdown",
   "metadata": {},
   "source": [
    "## Exploratory data analysis of the Kaggle Cancer Dataset\n",
    "\n",
    "### Table of Contents\n",
    "1. [Discription the data](#1)\n",
    "2. [Distribution of classes within unique genes](#1.1) "
   ]
  },
  {
   "cell_type": "code",
   "execution_count": 1,
   "metadata": {
    "collapsed": true
   },
   "outputs": [],
   "source": [
    "import numpy as np\n",
    "import matplotlib.pyplot as plt\n",
    "%matplotlib inline\n",
    "import pandas as pd\n",
    "plt.style.use('ggplot')"
   ]
  },
  {
   "cell_type": "markdown",
   "metadata": {},
   "source": [
    "### Discribing the data <a id=1></a>\n",
    "\n",
    "We can first load the data and see how the features look.  We can see there are three columns per dataframe, and 3321 rows, and nine classes to predict."
   ]
  },
  {
   "cell_type": "code",
   "execution_count": 2,
   "metadata": {},
   "outputs": [
    {
     "name": "stderr",
     "output_type": "stream",
     "text": [
      "C:\\Users\\Michael\\Anaconda3\\envs\\tensorflow\\lib\\site-packages\\ipykernel\\__main__.py:1: ParserWarning: Falling back to the 'python' engine because the 'c' engine does not support regex separators (separators > 1 char and different from '\\s+' are interpreted as regex); you can avoid this warning by specifying engine='python'.\n",
      "  if __name__ == '__main__':\n"
     ]
    },
    {
     "name": "stdout",
     "output_type": "stream",
     "text": [
      "(3321, 3)\n"
     ]
    },
    {
     "data": {
      "text/html": [
       "<div>\n",
       "<style>\n",
       "    .dataframe thead tr:only-child th {\n",
       "        text-align: right;\n",
       "    }\n",
       "\n",
       "    .dataframe thead th {\n",
       "        text-align: left;\n",
       "    }\n",
       "\n",
       "    .dataframe tbody tr th {\n",
       "        vertical-align: top;\n",
       "    }\n",
       "</style>\n",
       "<table border=\"1\" class=\"dataframe\">\n",
       "  <thead>\n",
       "    <tr style=\"text-align: right;\">\n",
       "      <th></th>\n",
       "      <th>Gene</th>\n",
       "      <th>Variation</th>\n",
       "      <th>Class</th>\n",
       "    </tr>\n",
       "    <tr>\n",
       "      <th>ID</th>\n",
       "      <th></th>\n",
       "      <th></th>\n",
       "      <th></th>\n",
       "    </tr>\n",
       "  </thead>\n",
       "  <tbody>\n",
       "    <tr>\n",
       "      <th>0</th>\n",
       "      <td>FAM58A</td>\n",
       "      <td>Truncating Mutations</td>\n",
       "      <td>1</td>\n",
       "    </tr>\n",
       "    <tr>\n",
       "      <th>1</th>\n",
       "      <td>CBL</td>\n",
       "      <td>W802*</td>\n",
       "      <td>2</td>\n",
       "    </tr>\n",
       "    <tr>\n",
       "      <th>2</th>\n",
       "      <td>CBL</td>\n",
       "      <td>Q249E</td>\n",
       "      <td>2</td>\n",
       "    </tr>\n",
       "    <tr>\n",
       "      <th>3</th>\n",
       "      <td>CBL</td>\n",
       "      <td>N454D</td>\n",
       "      <td>3</td>\n",
       "    </tr>\n",
       "    <tr>\n",
       "      <th>4</th>\n",
       "      <td>CBL</td>\n",
       "      <td>L399V</td>\n",
       "      <td>4</td>\n",
       "    </tr>\n",
       "  </tbody>\n",
       "</table>\n",
       "</div>"
      ],
      "text/plain": [
       "      Gene             Variation  Class\n",
       "ID                                     \n",
       "0   FAM58A  Truncating Mutations      1\n",
       "1      CBL                 W802*      2\n",
       "2      CBL                 Q249E      2\n",
       "3      CBL                 N454D      3\n",
       "4      CBL                 L399V      4"
      ]
     },
     "execution_count": 2,
     "metadata": {},
     "output_type": "execute_result"
    }
   ],
   "source": [
    "df_text = pd.read_csv('../data/training_text.csv',delimiter='\\|\\|',index_col=0)\n",
    "df_variants = pd.read_csv('../data/training_variants.csv',index_col=0)\n",
    "print(df_variants.shape)\n",
    "df_variants.head(5)"
   ]
  },
  {
   "cell_type": "markdown",
   "metadata": {},
   "source": [
    "The classes are not uniformly distributed.  Instead class 7 is around 100x more likely than class 8"
   ]
  },
  {
   "cell_type": "code",
   "execution_count": 3,
   "metadata": {},
   "outputs": [
    {
     "data": {
      "text/plain": [
       "<matplotlib.axes._subplots.AxesSubplot at 0x23aa4ba9908>"
      ]
     },
     "execution_count": 3,
     "metadata": {},
     "output_type": "execute_result"
    },
    {
     "data": {
      "image/png": "[encoded data removed]",
      "text/plain": [
       "<matplotlib.figure.Figure at 0x23aa4b35b38>"
      ]
     },
     "metadata": {},
     "output_type": "display_data"
    }
   ],
   "source": [
    "df_variants.Class.value_counts().plot(kind='bar',)"
   ]
  },
  {
   "cell_type": "markdown",
   "metadata": {},
   "source": [
    "We can also explore how many variations per gene there are.  We can see that most of the genes only have a small number of variations attached to them.  However, some of the genes have a large amount of variations attached (ie. up to 250 variations in one gene)"
   ]
  },
  {
   "cell_type": "code",
   "execution_count": 4,
   "metadata": {},
   "outputs": [
    {
     "data": {
      "image/png": "[encoded data removed]",
      "text/plain": [
       "<matplotlib.figure.Figure at 0x23aaeadc9b0>"
      ]
     },
     "metadata": {},
     "output_type": "display_data"
    },
    {
     "name": "stdout",
     "output_type": "stream",
     "text": [
      "the mean number of variations per class is 12.580 +/- 26.562\n"
     ]
    }
   ],
   "source": [
    "m = df_variants.groupby('Gene').Variation.count()\n",
    "m.hist(bins=20)\n",
    "plt.show()\n",
    "print('the mean number of variations per class is {:.3f} +/- {:.3f}'.format(m.mean(),m.std()))"
   ]
  },
  {
   "cell_type": "code",
   "execution_count": 5,
   "metadata": {},
   "outputs": [
    {
     "data": {
      "text/plain": [
       "(264,)"
      ]
     },
     "execution_count": 5,
     "metadata": {},
     "output_type": "execute_result"
    }
   ],
   "source": [
    "df_variants.Gene.unique().shape"
   ]
  },
  {
   "cell_type": "markdown",
   "metadata": {},
   "source": [
    "### The effect of gene on class <a id=1.1></a>\n",
    "\n",
    "We can ask if the class is dependent on the gene.  Ie if you have two variations within a gene, are these more likely to share a Class then two variations which don't belong to the same gene.  To do this we will run a chi-squared test on the data.  We will first split the classes up into nine features, groupby the genes, and then find the total number variations per each gene and class.   We will then create a chi-squared test using this data."
   ]
  },
  {
   "cell_type": "code",
   "execution_count": 6,
   "metadata": {},
   "outputs": [
    {
     "data": {
      "text/plain": [
       "array([[ 0,  0,  4, ...,  0,  2,  0],\n",
       "       [24,  1,  1, ...,  1,  0,  3],\n",
       "       [ 0,  0,  0, ...,  0,  0,  0],\n",
       "       ..., \n",
       "       [ 2,  2,  0, ...,  0,  0,  1],\n",
       "       [ 0,  0,  0, ...,  0,  0,  0],\n",
       "       [ 0,  0,  0, ...,  0,  0,  0]], dtype=uint8)"
      ]
     },
     "execution_count": 6,
     "metadata": {},
     "output_type": "execute_result"
    }
   ],
   "source": [
    "cm = pd.get_dummies(df_variants[['Gene','Class']],columns=['Class']).groupby('Gene').sum().values.T\n",
    "cm"
   ]
  },
  {
   "cell_type": "code",
   "execution_count": 7,
   "metadata": {},
   "outputs": [
    {
     "name": "stdout",
     "output_type": "stream",
     "text": [
      "The chi squared value is 10042.3 with 2104 degrees of freedom which corresponds to a p value of 0.000\n"
     ]
    }
   ],
   "source": [
    "from scipy import stats\n",
    "total_per_gene = cm.sum(axis=0)\n",
    "total_per_class = cm.sum(axis=1).reshape(-1,1)\n",
    "class_probs = total_per_class/total_per_class.sum()\n",
    "expected = total_per_gene*class_probs\n",
    "chi_square_value = ((cm - expected)**2/expected).sum()\n",
    "dof = (cm.shape[0]-1)*(cm.shape[1]-1)\n",
    "p_value = 1-stats.chi2.cdf(((cm - expected)**2/expected).sum(),dof)\n",
    "print('The chi squared value is {:.1f} with {:d} degrees of freedom which corresponds to a p value of {:.3f}'.\\\n",
    "     format(chi_square_value,dof,p_value))"
   ]
  },
  {
   "cell_type": "markdown",
   "metadata": {},
   "source": [
    "From this we can see that the class is not independent of the gene, and that knowing the gene does give us additional information on the class"
   ]
  },
  {
   "cell_type": "code",
   "execution_count": 8,
   "metadata": {},
   "outputs": [
    {
     "data": {
      "image/png": "[encoded data removed]",
      "text/plain": [
       "<matplotlib.figure.Figure at 0x23aaeab2da0>"
      ]
     },
     "metadata": {},
     "output_type": "display_data"
    }
   ],
   "source": [
    "fig,ax = plt.subplots(figsize=(5,5))\n",
    "x = np.linspace(0,12500,1000)\n",
    "ax.plot(x,stats.chi2.pdf(x,dof),label='probability')\n",
    "ax.set_ylabel('probability')\n",
    "ax.set_xlabel('chi squared value')\n",
    "ax.set_title('Probability of chi squared value for 2104 dof')\n",
    "ax.vlines(chi_square_value,0,.01,label='observed value')\n",
    "ax.legend(loc='upper center')\n",
    "ax.set_ylim(0,.006)\n",
    "plt.show()"
   ]
  },
  {
   "cell_type": "code",
   "execution_count": null,
   "metadata": {
    "collapsed": true
   },
   "outputs": [],
   "source": []
  }
 ],
 "metadata": {
  "anaconda-cloud": {},
  "kernelspec": {
   "display_name": "Python [conda env:tensorflow]",
   "language": "python",
   "name": "conda-env-tensorflow-py"
  },
  "language_info": {
   "codemirror_mode": {
    "name": "ipython",
    "version": 3
   },
   "file_extension": ".py",
   "mimetype": "text/x-python",
   "name": "python",
   "nbconvert_exporter": "python",
   "pygments_lexer": "ipython3",
   "version": "3.5.3"
  }
 },
 "nbformat": 4,
 "nbformat_minor": 2
}
